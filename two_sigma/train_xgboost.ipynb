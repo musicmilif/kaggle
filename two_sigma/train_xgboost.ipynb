{
 "cells": [
  {
   "cell_type": "code",
   "execution_count": 1,
   "metadata": {
    "scrolled": true
   },
   "outputs": [],
   "source": [
    "import warnings\n",
    "warnings.filterwarnings('ignore')\n",
    "\n",
    "import numpy as np\n",
    "import pandas as pd\n",
    "from scipy import sparse\n",
    "from sklearn.feature_extraction.text import TfidfVectorizer, CountVectorizer\n",
    "from preprocess import pre_process\n",
    "import xgboost as xgb"
   ]
  },
  {
   "cell_type": "code",
   "execution_count": 3,
   "metadata": {},
   "outputs": [],
   "source": [
    "def train_xgb(X, y, params):\n",
    "    x, X_val, y_train, y_val = train_test_split(X, y, test_size=0.2)\n",
    "\n",
    "    xg_train = xgb.DMatrix(x, label=y_train)\n",
    "    xg_val = xgb.DMatrix(X_val, label=y_val)\n",
    "\n",
    "    watchlist  = [(xg_train,'train'), (xg_val,'eval')]\n",
    "    return xgb.train(params, xg_train, num_rounds, watchlist, early_stopping_rounds=50, verbose_eval=num_rounds/20)\n",
    "\n",
    "def cv_xgb(X, y, params):\n",
    "    d_train = xgb.DMatrix(X, label=y)\n",
    "    cv_result = xgb.cv(params, d_train, num_boost_round=500, nfold=5, \n",
    "                       verbose_eval=50, early_stopping_rounds=100)\n",
    "\n",
    "def predict_xgb(clr, X_test):\n",
    "    return clr.predict(xgb.DMatrix(X_test))\n",
    "    \n",
    "def create_feature_map(features):\n",
    "    outfile = open('xgb.fmap', 'w')\n",
    "    for i, feat in enumerate(features):\n",
    "        outfile.write('{0}\\t{1}\\tq\\n'.format(i, feat))\n",
    "    outfile.close()"
   ]
  },
  {
   "cell_type": "code",
   "execution_count": 2,
   "metadata": {},
   "outputs": [
    {
     "data": {
      "text/html": [
       "<div>\n",
       "<style scoped>\n",
       "    .dataframe tbody tr th:only-of-type {\n",
       "        vertical-align: middle;\n",
       "    }\n",
       "\n",
       "    .dataframe tbody tr th {\n",
       "        vertical-align: top;\n",
       "    }\n",
       "\n",
       "    .dataframe thead th {\n",
       "        text-align: right;\n",
       "    }\n",
       "</style>\n",
       "<table border=\"1\" class=\"dataframe\">\n",
       "  <thead>\n",
       "    <tr style=\"text-align: right;\">\n",
       "      <th></th>\n",
       "      <th>bathrooms</th>\n",
       "      <th>bedrooms</th>\n",
       "      <th>building_id</th>\n",
       "      <th>created</th>\n",
       "      <th>description</th>\n",
       "      <th>display_address</th>\n",
       "      <th>features</th>\n",
       "      <th>latitude</th>\n",
       "      <th>listing_id</th>\n",
       "      <th>longitude</th>\n",
       "      <th>...</th>\n",
       "      <th>num_rot30_X</th>\n",
       "      <th>num_rot30_Y</th>\n",
       "      <th>num_rot45_X</th>\n",
       "      <th>num_rot45_Y</th>\n",
       "      <th>num_rot60_X</th>\n",
       "      <th>num_rot60_Y</th>\n",
       "      <th>manager_level_low</th>\n",
       "      <th>manager_level_medium</th>\n",
       "      <th>manager_level_high</th>\n",
       "      <th>manager_skill</th>\n",
       "    </tr>\n",
       "  </thead>\n",
       "  <tbody>\n",
       "    <tr>\n",
       "      <th>0</th>\n",
       "      <td>1.5</td>\n",
       "      <td>3</td>\n",
       "      <td>53a5b119ba8f7b61d4e010512e0dfc85</td>\n",
       "      <td>2016-06-24 07:54:24</td>\n",
       "      <td>A Brand New 3 Bedroom 1.5 bath ApartmentEnjoy ...</td>\n",
       "      <td>Metropolitan Avenue</td>\n",
       "      <td></td>\n",
       "      <td>40.7145</td>\n",
       "      <td>7211212</td>\n",
       "      <td>-73.9425</td>\n",
       "      <td>...</td>\n",
       "      <td>-1.711459</td>\n",
       "      <td>-84.393333</td>\n",
       "      <td>-23.495744</td>\n",
       "      <td>-81.074742</td>\n",
       "      <td>-43.678833</td>\n",
       "      <td>-72.231041</td>\n",
       "      <td>1.0</td>\n",
       "      <td>0.0</td>\n",
       "      <td>0.0</td>\n",
       "      <td>0.0</td>\n",
       "    </tr>\n",
       "    <tr>\n",
       "      <th>1</th>\n",
       "      <td>1.0</td>\n",
       "      <td>2</td>\n",
       "      <td>c5c8a357cba207596b04d1afd1e4f130</td>\n",
       "      <td>2016-06-12 12:19:27</td>\n",
       "      <td></td>\n",
       "      <td>Columbus Avenue</td>\n",
       "      <td>Doorman Elevator Fitness_Center Cats_Allowed D...</td>\n",
       "      <td>40.7947</td>\n",
       "      <td>7150865</td>\n",
       "      <td>-73.9667</td>\n",
       "      <td>...</td>\n",
       "      <td>-1.654103</td>\n",
       "      <td>-84.454391</td>\n",
       "      <td>-23.456146</td>\n",
       "      <td>-81.148564</td>\n",
       "      <td>-43.659691</td>\n",
       "      <td>-72.312597</td>\n",
       "      <td>NaN</td>\n",
       "      <td>NaN</td>\n",
       "      <td>NaN</td>\n",
       "      <td>NaN</td>\n",
       "    </tr>\n",
       "    <tr>\n",
       "      <th>2</th>\n",
       "      <td>1.0</td>\n",
       "      <td>1</td>\n",
       "      <td>c3ba40552e2120b0acfc3cb5730bb2aa</td>\n",
       "      <td>2016-04-17 03:26:41</td>\n",
       "      <td>Top Top West Village location, beautiful Pre-w...</td>\n",
       "      <td>W 13 Street</td>\n",
       "      <td>Laundry_In_Building Dishwasher Hardwood_Floors...</td>\n",
       "      <td>40.7388</td>\n",
       "      <td>6887163</td>\n",
       "      <td>-74.0018</td>\n",
       "      <td>...</td>\n",
       "      <td>-1.720064</td>\n",
       "      <td>-84.456839</td>\n",
       "      <td>-23.520493</td>\n",
       "      <td>-81.133856</td>\n",
       "      <td>-43.718039</td>\n",
       "      <td>-72.281736</td>\n",
       "      <td>NaN</td>\n",
       "      <td>NaN</td>\n",
       "      <td>NaN</td>\n",
       "      <td>NaN</td>\n",
       "    </tr>\n",
       "  </tbody>\n",
       "</table>\n",
       "<p>3 rows × 82 columns</p>\n",
       "</div>"
      ],
      "text/plain": [
       "   bathrooms  bedrooms                       building_id             created  \\\n",
       "0        1.5         3  53a5b119ba8f7b61d4e010512e0dfc85 2016-06-24 07:54:24   \n",
       "1        1.0         2  c5c8a357cba207596b04d1afd1e4f130 2016-06-12 12:19:27   \n",
       "2        1.0         1  c3ba40552e2120b0acfc3cb5730bb2aa 2016-04-17 03:26:41   \n",
       "\n",
       "                                         description      display_address  \\\n",
       "0  A Brand New 3 Bedroom 1.5 bath ApartmentEnjoy ...  Metropolitan Avenue   \n",
       "1                                                         Columbus Avenue   \n",
       "2  Top Top West Village location, beautiful Pre-w...          W 13 Street   \n",
       "\n",
       "                                            features  latitude  listing_id  \\\n",
       "0                                                      40.7145     7211212   \n",
       "1  Doorman Elevator Fitness_Center Cats_Allowed D...   40.7947     7150865   \n",
       "2  Laundry_In_Building Dishwasher Hardwood_Floors...   40.7388     6887163   \n",
       "\n",
       "   longitude  ... num_rot30_X num_rot30_Y  num_rot45_X num_rot45_Y  \\\n",
       "0   -73.9425  ...   -1.711459  -84.393333   -23.495744  -81.074742   \n",
       "1   -73.9667  ...   -1.654103  -84.454391   -23.456146  -81.148564   \n",
       "2   -74.0018  ...   -1.720064  -84.456839   -23.520493  -81.133856   \n",
       "\n",
       "  num_rot60_X  num_rot60_Y  manager_level_low manager_level_medium  \\\n",
       "0  -43.678833   -72.231041                1.0                  0.0   \n",
       "1  -43.659691   -72.312597                NaN                  NaN   \n",
       "2  -43.718039   -72.281736                NaN                  NaN   \n",
       "\n",
       "   manager_level_high  manager_skill  \n",
       "0                 0.0            0.0  \n",
       "1                 NaN            NaN  \n",
       "2                 NaN            NaN  \n",
       "\n",
       "[3 rows x 82 columns]"
      ]
     },
     "execution_count": 2,
     "metadata": {},
     "output_type": "execute_result"
    }
   ],
   "source": [
    "train_df, test_df = pre_process()\n",
    "tfidf = CountVectorizer(stop_words='english', max_features=200)\n",
    "tr_sparse = tfidf.fit_transform(train_df[\"features\"])\n",
    "te_sparse = tfidf.transform(test_df[\"features\"])\n",
    "\n",
    "train_df.head(3)"
   ]
  },
  {
   "cell_type": "code",
   "execution_count": 17,
   "metadata": {},
   "outputs": [
    {
     "name": "stdout",
     "output_type": "stream",
     "text": [
      "(49352, 251) (74659, 251)\n"
     ]
    }
   ],
   "source": [
    "train_X = sparse.hstack([train_df[features_to_use], tr_sparse]).tocsr()\n",
    "test_X = sparse.hstack([test_df[features_to_use], te_sparse]).tocsr()\n",
    "\n",
    "target_num_map = {'high':0, 'medium':1, 'low':2}\n",
    "train_y = np.array(train_df['interest_level'].apply(lambda x: target_num_map[x]))\n",
    "print train_X.shape, test_X.shape"
   ]
  },
  {
   "cell_type": "code",
   "execution_count": null,
   "metadata": {
    "scrolled": false
   },
   "outputs": [
    {
     "name": "stdout",
     "output_type": "stream",
     "text": [
      "[0]\ttrain-mlogloss:1.08528\teval-mlogloss:1.08544\n",
      "Multiple eval metrics have been passed: 'eval-mlogloss' will be used for early stopping.\n",
      "\n",
      "Will train until eval-mlogloss hasn't improved in 50 rounds.\n",
      "[200]\ttrain-mlogloss:0.504119\teval-mlogloss:0.553497\n",
      "[400]\ttrain-mlogloss:0.435832\teval-mlogloss:0.521937\n",
      "[600]\ttrain-mlogloss:0.394325\teval-mlogloss:0.512307\n",
      "[800]\ttrain-mlogloss:0.363472\teval-mlogloss:0.508321\n",
      "[1000]\ttrain-mlogloss:0.339251\teval-mlogloss:0.506614\n",
      "[1200]\ttrain-mlogloss:0.319035\teval-mlogloss:0.505781\n",
      "[1400]\ttrain-mlogloss:0.301924\teval-mlogloss:0.50545\n",
      "[1600]\ttrain-mlogloss:0.28578\teval-mlogloss:0.504995\n",
      "Stopping. Best iteration:\n",
      "[1588]\ttrain-mlogloss:0.286648\teval-mlogloss:0.504934\n",
      "\n"
     ]
    },
    {
     "data": {
      "text/plain": [
       "<matplotlib.axes._subplots.AxesSubplot at 0x7f3e78af9ed0>"
      ]
     },
     "execution_count": 19,
     "metadata": {},
     "output_type": "execute_result"
    },
    {
     "data": {
      "image/png": "[encoded data removed]",
      "text/plain": [
       "<matplotlib.figure.Figure at 0x7f3e3bbb85d0>"
      ]
     },
     "metadata": {},
     "output_type": "display_data"
    }
   ],
   "source": [
    "param = {}\n",
    "param['objective'] = 'multi:softprob'\n",
    "param['num_class'] = 3\n",
    "param['eval_metric'] = \"mlogloss\"\n",
    "param['eta'] = 0.02\n",
    "param['alpha'] = 0\n",
    "param['max_depth'] = 8\n",
    "param['colsample_bytree'] = 0.38\n",
    "param['gamma'] = 0\n",
    "param['min_child_weight'] = 19.4\n",
    "param['subsample'] = 0.8\n",
    "param['silent'] = 1\n",
    "param['seed'] = 0\n",
    "num_rounds = 4000\n",
    "\n",
    "create_feature_map(features_to_use)\n",
    "clr = train_xgb(train_X, train_y, param)\n",
    "importance = clr.get_fscore(fmap='xgb.fmap')\n",
    "importance = sorted(importance.items(), key=operator.itemgetter(1))[-30:]\n",
    "ft = pd.DataFrame(importance, columns=['feature', 'fscore'])\n",
    "ft.plot(kind='barh', x='feature', y='fscore', legend=False, figsize=(12, 15))"
   ]
  },
  {
   "cell_type": "code",
   "execution_count": null,
   "metadata": {},
   "outputs": [
    {
     "name": "stdout",
     "output_type": "stream",
     "text": [
      "Start 1 times of training\n",
      "Iteration: 1439  Multi-logloss: 0.503691\n",
      "Start 2 times of training\n",
      "Iteration: 1393  Multi-logloss: 0.501872\n",
      "Start 3 times of training\n",
      "Iteration: 1279  Multi-logloss: 0.509638\n",
      "Start 4 times of training\n",
      "Iteration: 1378  Multi-logloss: 0.49996\n",
      "Start 5 times of training\n",
      "Iteration: 1163  Multi-logloss: 0.517018\n",
      "Start 6 times of training\n",
      "Iteration: 1402  Multi-logloss: 0.497055\n",
      "Start 7 times of training\n",
      "Iteration: 1204  Multi-logloss: 0.516374\n",
      "Start 8 times of training\n",
      "Iteration: 1377  Multi-logloss: 0.502006\n",
      "Start 9 times of training\n",
      "Iteration: 1574  Multi-logloss: 0.501095\n",
      "Start 10 times of training\n"
     ]
    }
   ],
   "source": [
    "def train_xgb(X, y, params):\n",
    "    x, X_val, y_train, y_val = train_test_split(X, y, test_size=0.2)\n",
    "\n",
    "    xg_train = xgb.DMatrix(x, label=y_train)\n",
    "    xg_val = xgb.DMatrix(X_val, label=y_val)\n",
    "\n",
    "    watchlist  = [(xg_train,'train'), (xg_val,'eval')]\n",
    "    return xgb.train(params, xg_train, num_rounds, watchlist, early_stopping_rounds=50, verbose_eval=False)\n",
    "\n",
    "sumPred = np.zeros((test_X.shape[0], 3))\n",
    "for i in xrange(10):\n",
    "    print 'Start '+str(i+1)+' times of training'\n",
    "    clr = train_xgb(train_X, train_y, param)\n",
    "    sumPred += predict_xgb(clr, test_X)\n",
    "    print 'Iteration: '+str(clr.best_iteration)+'  Multi-logloss: '+str(clr.best_score)\n",
    "    \n",
    "preds = sumPred/10"
   ]
  },
  {
   "cell_type": "code",
   "execution_count": null,
   "metadata": {},
   "outputs": [],
   "source": [
    "out_df = pd.DataFrame(preds)\n",
    "out_df.columns = [\"high\", \"medium\", \"low\"]\n",
    "out_df[\"listing_id\"] = test_df.listing_id.values\n",
    "out_df.to_csv(\"xgb_f.csv\", index=False)"
   ]
  },
  {
   "cell_type": "code",
   "execution_count": null,
   "metadata": {
    "collapsed": true
   },
   "outputs": [],
   "source": []
  }
 ],
 "metadata": {
  "kernelspec": {
   "display_name": "Python 3",
   "language": "python",
   "name": "python3"
  },
  "language_info": {
   "codemirror_mode": {
    "name": "ipython",
    "version": 3
   },
   "file_extension": ".py",
   "mimetype": "text/x-python",
   "name": "python",
   "nbconvert_exporter": "python",
   "pygments_lexer": "ipython3",
   "version": "3.7.1"
  }
 },
 "nbformat": 4,
 "nbformat_minor": 2
}
